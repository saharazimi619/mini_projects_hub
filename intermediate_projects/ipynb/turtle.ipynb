{
 "cells": [
  {
   "cell_type": "code",
   "execution_count": 1,
   "metadata": {},
   "outputs": [
    {
     "data": {
      "text/html": [
       "\n",
       "      <svg width=\"800\" height=\"500\">\n",
       "        <rect width=\"100%\" height=\"100%\" fill=\"black\"/>\n",
       "        <line x1=\"50\" y1=\"250\" x2=\"83.333\" y2=\"250.0\" stroke-linecap=\"round\" style=\"stroke:blue;stroke-width:4\"/><line x1=\"83.333\" y1=\"250.0\" x2=\"100.0\" y2=\"221.132\" stroke-linecap=\"round\" style=\"stroke:blue;stroke-width:4\"/><line x1=\"100.0\" y1=\"221.132\" x2=\"116.667\" y2=\"250.0\" stroke-linecap=\"round\" style=\"stroke:blue;stroke-width:4\"/><line x1=\"116.667\" y1=\"250.0\" x2=\"150.0\" y2=\"250.0\" stroke-linecap=\"round\" style=\"stroke:blue;stroke-width:4\"/><line x1=\"150.0\" y1=\"250.0\" x2=\"166.667\" y2=\"221.132\" stroke-linecap=\"round\" style=\"stroke:blue;stroke-width:4\"/><line x1=\"166.667\" y1=\"221.132\" x2=\"150.0\" y2=\"192.264\" stroke-linecap=\"round\" style=\"stroke:blue;stroke-width:4\"/><line x1=\"150.0\" y1=\"192.264\" x2=\"183.333\" y2=\"192.264\" stroke-linecap=\"round\" style=\"stroke:blue;stroke-width:4\"/><line x1=\"183.333\" y1=\"192.264\" x2=\"200.0\" y2=\"163.396\" stroke-linecap=\"round\" style=\"stroke:blue;stroke-width:4\"/><line x1=\"200.0\" y1=\"163.396\" x2=\"216.667\" y2=\"192.264\" stroke-linecap=\"round\" style=\"stroke:blue;stroke-width:4\"/><line x1=\"216.667\" y1=\"192.264\" x2=\"250.0\" y2=\"192.264\" stroke-linecap=\"round\" style=\"stroke:blue;stroke-width:4\"/><line x1=\"250.0\" y1=\"192.264\" x2=\"233.333\" y2=\"221.132\" stroke-linecap=\"round\" style=\"stroke:blue;stroke-width:4\"/><line x1=\"233.333\" y1=\"221.132\" x2=\"250.0\" y2=\"250.0\" stroke-linecap=\"round\" style=\"stroke:blue;stroke-width:4\"/><line x1=\"250.0\" y1=\"250.0\" x2=\"283.333\" y2=\"250.0\" stroke-linecap=\"round\" style=\"stroke:blue;stroke-width:4\"/><line x1=\"283.333\" y1=\"250.0\" x2=\"300.0\" y2=\"221.132\" stroke-linecap=\"round\" style=\"stroke:blue;stroke-width:4\"/><line x1=\"300.0\" y1=\"221.132\" x2=\"316.667\" y2=\"250.0\" stroke-linecap=\"round\" style=\"stroke:blue;stroke-width:4\"/><line x1=\"316.667\" y1=\"250.0\" x2=\"350.0\" y2=\"250.0\" stroke-linecap=\"round\" style=\"stroke:blue;stroke-width:4\"/><line x1=\"350.0\" y1=\"250.0\" x2=\"333.333\" y2=\"278.868\" stroke-linecap=\"round\" style=\"stroke:blue;stroke-width:4\"/><line x1=\"333.333\" y1=\"278.868\" x2=\"350.0\" y2=\"307.736\" stroke-linecap=\"round\" style=\"stroke:blue;stroke-width:4\"/><line x1=\"350.0\" y1=\"307.736\" x2=\"316.667\" y2=\"307.736\" stroke-linecap=\"round\" style=\"stroke:blue;stroke-width:4\"/><line x1=\"316.667\" y1=\"307.736\" x2=\"300.0\" y2=\"336.604\" stroke-linecap=\"round\" style=\"stroke:blue;stroke-width:4\"/><line x1=\"300.0\" y1=\"336.604\" x2=\"316.667\" y2=\"365.472\" stroke-linecap=\"round\" style=\"stroke:blue;stroke-width:4\"/><line x1=\"316.667\" y1=\"365.472\" x2=\"350.0\" y2=\"365.472\" stroke-linecap=\"round\" style=\"stroke:blue;stroke-width:4\"/><line x1=\"350.0\" y1=\"365.472\" x2=\"333.333\" y2=\"394.34\" stroke-linecap=\"round\" style=\"stroke:blue;stroke-width:4\"/><line x1=\"333.333\" y1=\"394.34\" x2=\"350.0\" y2=\"423.208\" stroke-linecap=\"round\" style=\"stroke:blue;stroke-width:4\"/><line x1=\"350.0\" y1=\"423.208\" x2=\"316.667\" y2=\"423.208\" stroke-linecap=\"round\" style=\"stroke:blue;stroke-width:4\"/><line x1=\"316.667\" y1=\"423.208\" x2=\"300.0\" y2=\"452.076\" stroke-linecap=\"round\" style=\"stroke:blue;stroke-width:4\"/><line x1=\"300.0\" y1=\"452.076\" x2=\"283.333\" y2=\"423.208\" stroke-linecap=\"round\" style=\"stroke:blue;stroke-width:4\"/><line x1=\"283.333\" y1=\"423.208\" x2=\"250.0\" y2=\"423.208\" stroke-linecap=\"round\" style=\"stroke:blue;stroke-width:4\"/><line x1=\"250.0\" y1=\"423.208\" x2=\"233.333\" y2=\"452.076\" stroke-linecap=\"round\" style=\"stroke:blue;stroke-width:4\"/><line x1=\"233.333\" y1=\"452.076\" x2=\"250.0\" y2=\"480.944\" stroke-linecap=\"round\" style=\"stroke:blue;stroke-width:4\"/><line x1=\"250.0\" y1=\"480.944\" x2=\"216.667\" y2=\"480.944\" stroke-linecap=\"round\" style=\"stroke:blue;stroke-width:4\"/><line x1=\"216.667\" y1=\"480.944\" x2=\"200.0\" y2=\"509.812\" stroke-linecap=\"round\" style=\"stroke:blue;stroke-width:4\"/><line x1=\"200.0\" y1=\"509.812\" x2=\"183.333\" y2=\"480.944\" stroke-linecap=\"round\" style=\"stroke:blue;stroke-width:4\"/><line x1=\"183.333\" y1=\"480.944\" x2=\"150.0\" y2=\"480.944\" stroke-linecap=\"round\" style=\"stroke:blue;stroke-width:4\"/><line x1=\"150.0\" y1=\"480.944\" x2=\"166.667\" y2=\"452.076\" stroke-linecap=\"round\" style=\"stroke:blue;stroke-width:4\"/><line x1=\"166.667\" y1=\"452.076\" x2=\"150.0\" y2=\"423.208\" stroke-linecap=\"round\" style=\"stroke:blue;stroke-width:4\"/><line x1=\"150.0\" y1=\"423.208\" x2=\"116.667\" y2=\"423.208\" stroke-linecap=\"round\" style=\"stroke:blue;stroke-width:4\"/><line x1=\"116.667\" y1=\"423.208\" x2=\"100.0\" y2=\"452.076\" stroke-linecap=\"round\" style=\"stroke:blue;stroke-width:4\"/><line x1=\"100.0\" y1=\"452.076\" x2=\"83.333\" y2=\"423.208\" stroke-linecap=\"round\" style=\"stroke:blue;stroke-width:4\"/><line x1=\"83.333\" y1=\"423.208\" x2=\"50.0\" y2=\"423.208\" stroke-linecap=\"round\" style=\"stroke:blue;stroke-width:4\"/><line x1=\"50.0\" y1=\"423.208\" x2=\"66.667\" y2=\"394.34\" stroke-linecap=\"round\" style=\"stroke:blue;stroke-width:4\"/><line x1=\"66.667\" y1=\"394.34\" x2=\"50.0\" y2=\"365.472\" stroke-linecap=\"round\" style=\"stroke:blue;stroke-width:4\"/><line x1=\"50.0\" y1=\"365.472\" x2=\"83.333\" y2=\"365.472\" stroke-linecap=\"round\" style=\"stroke:blue;stroke-width:4\"/><line x1=\"83.333\" y1=\"365.472\" x2=\"100.0\" y2=\"336.604\" stroke-linecap=\"round\" style=\"stroke:blue;stroke-width:4\"/><line x1=\"100.0\" y1=\"336.604\" x2=\"83.333\" y2=\"307.736\" stroke-linecap=\"round\" style=\"stroke:blue;stroke-width:4\"/><line x1=\"83.333\" y1=\"307.736\" x2=\"50.0\" y2=\"307.736\" stroke-linecap=\"round\" style=\"stroke:blue;stroke-width:4\"/><line x1=\"50.0\" y1=\"307.736\" x2=\"66.667\" y2=\"278.868\" stroke-linecap=\"round\" style=\"stroke:blue;stroke-width:4\"/><line x1=\"66.667\" y1=\"278.868\" x2=\"50.0\" y2=\"250.0\" stroke-linecap=\"round\" style=\"stroke:blue;stroke-width:4\"/>\n",
       "        <g visibility=visible transform=\"rotate(90,50.0,250.0) translate(32.0, 232.0)\">\n",
       "<path style=\" stroke:none;fill-rule:evenodd;fill:blue;fill-opacity:1;\" d=\"M 18.214844 0.632812 C 16.109375 1.800781 15.011719 4.074219 15.074219 7.132812 L 15.085938 7.652344 L 14.785156 7.496094 C 13.476562 6.824219 11.957031 6.671875 10.40625 7.066406 C 8.46875 7.550781 6.515625 9.15625 4.394531 11.992188 C 3.0625 13.777344 2.679688 14.636719 3.042969 15.027344 L 3.15625 15.152344 L 3.519531 15.152344 C 4.238281 15.152344 4.828125 14.886719 8.1875 13.039062 C 9.386719 12.378906 10.371094 11.839844 10.378906 11.839844 C 10.386719 11.839844 10.355469 11.929688 10.304688 12.035156 C 9.832031 13.09375 9.257812 14.820312 8.96875 16.078125 C 7.914062 20.652344 8.617188 24.53125 11.070312 27.660156 C 11.351562 28.015625 11.363281 27.914062 10.972656 28.382812 C 8.925781 30.84375 7.945312 33.28125 8.238281 35.1875 C 8.289062 35.527344 8.28125 35.523438 8.917969 35.523438 C 10.941406 35.523438 13.074219 34.207031 15.136719 31.6875 C 15.359375 31.417969 15.328125 31.425781 15.5625 31.574219 C 16.292969 32.042969 18.023438 32.964844 18.175781 32.964844 C 18.335938 32.964844 19.941406 32.210938 20.828125 31.71875 C 20.996094 31.625 21.136719 31.554688 21.136719 31.558594 C 21.203125 31.664062 21.898438 32.414062 22.222656 32.730469 C 23.835938 34.300781 25.5625 35.132812 27.582031 35.300781 C 27.90625 35.328125 27.9375 35.308594 28.007812 34.984375 C 28.382812 33.242188 27.625 30.925781 25.863281 28.425781 L 25.542969 27.96875 L 25.699219 27.785156 C 28.945312 23.960938 29.132812 18.699219 26.257812 11.96875 L 26.207031 11.84375 L 27.945312 12.703125 C 31.53125 14.476562 32.316406 14.800781 33.03125 14.800781 C 33.976562 14.800781 33.78125 13.9375 32.472656 12.292969 C 28.519531 7.355469 25.394531 5.925781 21.921875 7.472656 L 21.558594 7.636719 L 21.578125 7.542969 C 21.699219 6.992188 21.761719 5.742188 21.699219 5.164062 C 21.496094 3.296875 20.664062 1.964844 19.003906 0.855469 C 18.480469 0.503906 18.457031 0.5 18.214844 0.632812\"/>\n",
       "</g>\n",
       "      </svg>\n",
       "    "
      ],
      "text/plain": [
       "<IPython.core.display.HTML object>"
      ]
     },
     "metadata": {},
     "output_type": "display_data"
    }
   ],
   "source": [
    "from ColabTurtle.Turtle import *\n",
    "initializeTurtle()\n",
    "penup()\n",
    "goto(50,250)\n",
    "pendown() \n",
    "speed(12)\n",
    "right(90)\n",
    "color('blue')\n",
    "\n",
    "def draw(size,level):\n",
    "  if level ==0:\n",
    "    forward(size)\n",
    "    return\n",
    "  draw(size/3,level-1)\n",
    "  left(60)\n",
    "  draw(size/3,level-1)\n",
    "  right(120)\n",
    "  draw(size/3,level-1)\n",
    "  left(60)\n",
    "  draw(size/3,level-1)\n",
    "# draw(300,1)\n",
    "for i in range(3):\n",
    "  draw(300,2)\n",
    "  right(120)"
   ]
  }
 ],
 "metadata": {
  "kernelspec": {
   "display_name": "Python 3",
   "language": "python",
   "name": "python3"
  },
  "language_info": {
   "codemirror_mode": {
    "name": "ipython",
    "version": 3
   },
   "file_extension": ".py",
   "mimetype": "text/x-python",
   "name": "python",
   "nbconvert_exporter": "python",
   "pygments_lexer": "ipython3",
   "version": "3.9.7"
  }
 },
 "nbformat": 4,
 "nbformat_minor": 2
}
