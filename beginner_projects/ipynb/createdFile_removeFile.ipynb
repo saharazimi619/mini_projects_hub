{
 "cells": [
  {
   "cell_type": "code",
   "execution_count": 4,
   "metadata": {},
   "outputs": [],
   "source": [
    "import os \n",
    "\n",
    "def createFile():\n",
    "    fileName = 'f1.txt'\n",
    "    try:\n",
    "        with open(fileName, 'x') as fileName:\n",
    "            fileName.write('\\nhe is God Of War!')\n",
    "        print(f'{fileName} has been created!')    \n",
    "    except FileExistsError:\n",
    "        print(f'{fileName} has already been created!')\n",
    "\n",
    "    return fileName"
   ]
  },
  {
   "cell_type": "code",
   "execution_count": 5,
   "metadata": {},
   "outputs": [],
   "source": [
    "def removeFile(fileName):\n",
    "    try:\n",
    "        os.remove(fileName)\n",
    "        print(f'{fileName} has been removed!')\n",
    "    except FileNotFoundError:\n",
    "        print(f'{fileName} is not found!')\n",
    "\n"
   ]
  },
  {
   "cell_type": "code",
   "execution_count": 6,
   "metadata": {},
   "outputs": [
    {
     "name": "stdout",
     "output_type": "stream",
     "text": [
      "f1.txt has already been created!\n",
      "f1.txt has been removed!\n"
     ]
    }
   ],
   "source": [
    "fileName = createFile()\n",
    "removeFile(fileName)"
   ]
  }
 ],
 "metadata": {
  "kernelspec": {
   "display_name": "Python 3",
   "language": "python",
   "name": "python3"
  },
  "language_info": {
   "codemirror_mode": {
    "name": "ipython",
    "version": 3
   },
   "file_extension": ".py",
   "mimetype": "text/x-python",
   "name": "python",
   "nbconvert_exporter": "python",
   "pygments_lexer": "ipython3",
   "version": "3.9.7"
  }
 },
 "nbformat": 4,
 "nbformat_minor": 2
}
