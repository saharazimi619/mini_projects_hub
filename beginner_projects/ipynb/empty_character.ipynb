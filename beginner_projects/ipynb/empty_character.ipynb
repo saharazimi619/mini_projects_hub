{
 "cells": [
  {
   "cell_type": "code",
   "execution_count": 1,
   "metadata": {},
   "outputs": [
    {
     "name": "stdout",
     "output_type": "stream",
     "text": [
      "DataCampBlackFridaySale\n"
     ]
    }
   ],
   "source": [
    "def empty_character(text,ch):\n",
    "    result=''\n",
    "    for i in text:\n",
    "        if i==' ':\n",
    "            i=ch\n",
    "        result+=i\n",
    "    return result\n",
    "\n",
    "text='D t C mpBl ckFrid yS le'\n",
    "ch='a'\n",
    "print(empty_character(text,ch))        \n"
   ]
  }
 ],
 "metadata": {
  "kernelspec": {
   "display_name": "Python 3",
   "language": "python",
   "name": "python3"
  },
  "language_info": {
   "codemirror_mode": {
    "name": "ipython",
    "version": 3
   },
   "file_extension": ".py",
   "mimetype": "text/x-python",
   "name": "python",
   "nbconvert_exporter": "python",
   "pygments_lexer": "ipython3",
   "version": "3.9.7"
  }
 },
 "nbformat": 4,
 "nbformat_minor": 2
}
