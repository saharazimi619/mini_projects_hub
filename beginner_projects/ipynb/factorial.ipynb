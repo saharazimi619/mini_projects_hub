{
 "cells": [
  {
   "cell_type": "code",
   "execution_count": 13,
   "metadata": {},
   "outputs": [
    {
     "name": "stdout",
     "output_type": "stream",
     "text": [
      "factorial is : 3628800\n"
     ]
    }
   ],
   "source": [
    "# 0!=1      1!=1        2!=2*1=2        3!=3*2*1=6      4!=4*3*2*1=24       5!=5*4*3*2*1=120  ......\n",
    "\n",
    "def factorial(n):\n",
    "    if n<0:\n",
    "        return 'factorial does not exist'\n",
    "    elif n==0 or n==1:\n",
    "        return 'factorial is : 1'\n",
    "    else:\n",
    "        fact=1\n",
    "        for i in range(2,n+1):\n",
    "            fact*=i\n",
    "        return f'factorial is : {fact}'\n",
    "\n",
    "print(factorial(10))\n",
    "\n"
   ]
  },
  {
   "cell_type": "code",
   "execution_count": 14,
   "metadata": {},
   "outputs": [
    {
     "name": "stdout",
     "output_type": "stream",
     "text": [
      "factorial trailing zeros is : 2\n"
     ]
    }
   ],
   "source": [
    "def factorial_trailing_zeros(fact):\n",
    "    result=0\n",
    "    factorial_string=str(fact)\n",
    "    for i in factorial_string[::-1]:\n",
    "        if i=='0':\n",
    "            result+=1\n",
    "        else:\n",
    "            break     #If you want to change the total number of zeros in the factorial, just use \"continue\" instead of \"break\"!\n",
    "    return f'factorial trailing zeros is : {result}'\n",
    "\n",
    "fact=factorial(10)\n",
    "print(factorial_trailing_zeros(fact))        "
   ]
  }
 ],
 "metadata": {
  "kernelspec": {
   "display_name": "Python 3",
   "language": "python",
   "name": "python3"
  },
  "language_info": {
   "codemirror_mode": {
    "name": "ipython",
    "version": 3
   },
   "file_extension": ".py",
   "mimetype": "text/x-python",
   "name": "python",
   "nbconvert_exporter": "python",
   "pygments_lexer": "ipython3",
   "version": "3.9.7"
  }
 },
 "nbformat": 4,
 "nbformat_minor": 2
}
